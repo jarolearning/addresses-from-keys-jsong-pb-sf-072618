{
 "cells": [
  {
   "cell_type": "markdown",
   "metadata": {},
   "source": [
    "# Creating Addresses"
   ]
  },
  {
   "cell_type": "code",
   "execution_count": 1,
   "metadata": {},
   "outputs": [
    {
     "name": "stdout",
     "output_type": "stream",
     "text": [
      "b'19ZewH8Kk1PDbSNdJ97FP4EiCjTRaZMZQA'\n"
     ]
    }
   ],
   "source": [
    "# Address Example\n",
    "\n",
    "from helper import encode_base58, hash160, double_sha256\n",
    "sec = bytes.fromhex('025CBDF0646E5DB4EAA398F365F2EA7A0E3D419B7E0330E39CE92BDDEDCAC4F9BC')\n",
    "h160 = hash160(sec)\n",
    "raw = b\"\\x00\" + h160\n",
    "raw = raw + double_sha256(raw)[:4]\n",
    "addr = encode_base58(raw)\n",
    "print(addr)"
   ]
  },
  {
   "cell_type": "markdown",
   "metadata": {},
   "source": [
    "### Try it\n",
    "\n",
    "#### Find the mainnet and testnet addresses corresponding to the private keys:\n",
    "```\n",
    "compressed, 888**3\n",
    "uncompressed, 321\n",
    "uncompressed, 4242424242\n",
    "```"
   ]
  },
  {
   "cell_type": "code",
   "execution_count": 3,
   "metadata": {},
   "outputs": [
    {
     "name": "stdout",
     "output_type": "stream",
     "text": [
      "148dY81A9BmdpMhvYEVznrM45kWN32vSCN\n",
      "mieaqB68xDCtbUBYFoUNcmZNwk74xcBfTP\n",
      "1S6g2xBJSED7Qr9CYZib5f4PYVhHZiVfj\n",
      "mfx3y63A7TfTtXKkv7Y6QzsPFY6QCBCXiP\n",
      "1226JSptcStqn4Yq9aAmNXdwdc2ixuH9nb\n",
      "mgY3bVusRUL6ZB2Ss999CSrGVbdRwVpM8s\n"
     ]
    }
   ],
   "source": [
    "from ecc import G\n",
    "\n",
    "from helper import double_sha256, encode_base58, hash160\n",
    "\n",
    "components = (\n",
    "    # (compressed, secret)\n",
    "    (True, 888**3),\n",
    "    (False, 321),\n",
    "    (False, 4242424242),\n",
    ")\n",
    "\n",
    "# iterate through components\n",
    "for compressed, secret in components:\n",
    "    # get the public point\n",
    "    point = secret * G\n",
    "    # get the sec format\n",
    "    sec = point.sec(compressed)\n",
    "    # hash160 the result\n",
    "    h160 = hash160(sec)\n",
    "    # prepend b'\\x00' for mainnet b'\\x6f' for testnet\n",
    "    for prefix in (b'\\x00', b'\\x6f'):\n",
    "        # raw is the prefix + h160\n",
    "        raw = prefix + h160\n",
    "        # get the double_sha256 of the raw, first 4 bytes are the checksum\n",
    "        checksum = double_sha256(raw)[:4]\n",
    "        # append checksum\n",
    "        total = raw + checksum\n",
    "        # encode_base58 the whole thing\n",
    "        print(encode_base58(total).decode('ascii'))"
   ]
  },
  {
   "cell_type": "markdown",
   "metadata": {},
   "source": [
    "### Test Driven Exercise"
   ]
  },
  {
   "cell_type": "code",
   "execution_count": 5,
   "metadata": {},
   "outputs": [
    {
     "ename": "SyntaxError",
     "evalue": "invalid syntax (<ipython-input-5-6d441d5efbf4>, line 29)",
     "output_type": "error",
     "traceback": [
      "\u001b[0;36m  File \u001b[0;32m\"<ipython-input-5-6d441d5efbf4>\"\u001b[0;36m, line \u001b[0;32m29\u001b[0m\n\u001b[0;31m    a = new S256Point(S256Point)\u001b[0m\n\u001b[0m                    ^\u001b[0m\n\u001b[0;31mSyntaxError\u001b[0m\u001b[0;31m:\u001b[0m invalid syntax\n"
     ]
    }
   ],
   "source": [
    "from ecc import S256Point, G\n",
    "\n",
    "from helper import double_sha256, encode_base58, hash160\n",
    "\n",
    "class S256Point(S256Point):\n",
    "\n",
    "    def address(self, compressed=True, testnet=False):\n",
    "        '''Returns the address string'''\n",
    "        # get the sec\n",
    "        sec = self.sec(compressed)\n",
    "        # hash160 the sec\n",
    "        h160 = hash160(sec)\n",
    "        # raw is hash 160 prepended w/ b'\\x00' for mainnet, b'\\x6f' for testnet\n",
    "        if testnet:\n",
    "            prefix = b'\\x6f'\n",
    "        else:\n",
    "            prefix = b'\\x00'\n",
    "        raw = prefix + h160\n",
    "        print(raw)\n",
    "        # checksum is first 4 bytes of double_sha256 of raw\n",
    "        checksum = double_sha256(raw)[:4]\n",
    "        print(checksum)\n",
    "        # encode_base58 the raw + checksum\n",
    "        address = encode_base58(raw+checksum)\n",
    "        print(address)\n",
    "        # return as a string, you can use .decode('ascii') to do this.\n",
    "        return address.decode('ascii')\n",
    "    \n",
    "a = new S256Point(S256Point)"
   ]
  },
  {
   "cell_type": "code",
   "execution_count": null,
   "metadata": {},
   "outputs": [],
   "source": []
  }
 ],
 "metadata": {
  "kernelspec": {
   "display_name": "Python 3",
   "language": "python",
   "name": "python3"
  },
  "language_info": {
   "codemirror_mode": {
    "name": "ipython",
    "version": 3
   },
   "file_extension": ".py",
   "mimetype": "text/x-python",
   "name": "python",
   "nbconvert_exporter": "python",
   "pygments_lexer": "ipython3",
   "version": "3.6.4"
  }
 },
 "nbformat": 4,
 "nbformat_minor": 2
}
